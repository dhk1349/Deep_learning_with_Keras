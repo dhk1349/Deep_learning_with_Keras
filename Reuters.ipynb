{
 "cells": [
  {
   "cell_type": "code",
   "execution_count": 1,
   "metadata": {},
   "outputs": [
    {
     "name": "stderr",
     "output_type": "stream",
     "text": [
      "Using TensorFlow backend.\n"
     ]
    },
    {
     "name": "stdout",
     "output_type": "stream",
     "text": [
      "Downloading data from https://s3.amazonaws.com/text-datasets/reuters.npz\n",
      "2113536/2110848 [==============================] - 7s 3us/step\n"
     ]
    }
   ],
   "source": [
    "from keras.datasets import reuters\n",
    "\n",
    "(train_data,train_labels), (test_data, test_labels)=reuters.load_data(num_words=10000)"
   ]
  },
  {
   "cell_type": "code",
   "execution_count": 2,
   "metadata": {},
   "outputs": [
    {
     "name": "stdout",
     "output_type": "stream",
     "text": [
      "Downloading data from https://s3.amazonaws.com/text-datasets/reuters_word_index.json\n",
      "557056/550378 [==============================] - 1s 2us/step\n"
     ]
    }
   ],
   "source": [
    "word_index=reuters.get_word_index()\n",
    "reverse_word_index=dict([(value, key)for (key, value) in word_index.items()])\n",
    "decoded_newswire=' '.join([reverse_word_index.get(i-3,'?') for i in train_data[0]])"
   ]
  },
  {
   "cell_type": "code",
   "execution_count": 3,
   "metadata": {},
   "outputs": [],
   "source": [
    "import numpy as np\n",
    "from keras.utils.np_utils import to_categorical\n",
    "\n",
    "def vectorize_seq(sequences, dimension=10000):\n",
    "    results=np.zeros((len(sequences), dimension))\n",
    "    for i, sequence in enumerate(sequences):\n",
    "        results[i,sequence]=1.\n",
    "    return results\n",
    "\n",
    "x_train=vectorize_seq(train_data)\n",
    "x_test=vectorize_seq(test_data)\n",
    "one_hot_train_labels=to_categorical(train_labels)\n",
    "one_hot_test_labels=to_categorical(test_labels)"
   ]
  },
  {
   "cell_type": "code",
   "execution_count": 4,
   "metadata": {},
   "outputs": [
    {
     "name": "stdout",
     "output_type": "stream",
     "text": [
      "WARNING:tensorflow:From C:\\conda\\lib\\site-packages\\tensorflow\\python\\framework\\op_def_library.py:263: colocate_with (from tensorflow.python.framework.ops) is deprecated and will be removed in a future version.\n",
      "Instructions for updating:\n",
      "Colocations handled automatically by placer.\n"
     ]
    }
   ],
   "source": [
    "from keras import models\n",
    "from keras import layers\n",
    "\n",
    "model = models.Sequential()\n",
    "model.add(layers.Dense(64, activation='relu', input_shape=(10000,)))\n",
    "model.add(layers.Dense(64, activation='relu'))\n",
    "model.add(layers.Dense(46, activation='softmax'))"
   ]
  },
  {
   "cell_type": "code",
   "execution_count": 5,
   "metadata": {},
   "outputs": [],
   "source": [
    "model.compile(optimizer='rmsprop', loss='categorical_crossentropy', metrics=['accuracy'])"
   ]
  },
  {
   "cell_type": "code",
   "execution_count": 6,
   "metadata": {},
   "outputs": [],
   "source": [
    "x_val=x_train[:1000]\n",
    "partial_x_train=x_train[1000:]\n",
    "\n",
    "y_val=one_hot_train_labels[:1000]\n",
    "partial_y_train=one_hot_train_labels[1000:]"
   ]
  },
  {
   "cell_type": "code",
   "execution_count": 7,
   "metadata": {},
   "outputs": [
    {
     "name": "stdout",
     "output_type": "stream",
     "text": [
      "WARNING:tensorflow:From C:\\conda\\lib\\site-packages\\tensorflow\\python\\ops\\math_ops.py:3066: to_int32 (from tensorflow.python.ops.math_ops) is deprecated and will be removed in a future version.\n",
      "Instructions for updating:\n",
      "Use tf.cast instead.\n",
      "Train on 7982 samples, validate on 1000 samples\n",
      "Epoch 1/20\n",
      "7982/7982 [==============================] - 2s 249us/step - loss: 2.5337 - acc: 0.4941 - val_loss: 1.7261 - val_acc: 0.6100\n",
      "Epoch 2/20\n",
      "7982/7982 [==============================] - 1s 169us/step - loss: 1.4515 - acc: 0.6868 - val_loss: 1.3495 - val_acc: 0.7070\n",
      "Epoch 3/20\n",
      "7982/7982 [==============================] - 1s 171us/step - loss: 1.1001 - acc: 0.7641 - val_loss: 1.1732 - val_acc: 0.7420\n",
      "Epoch 4/20\n",
      "7982/7982 [==============================] - 1s 172us/step - loss: 0.8731 - acc: 0.8158 - val_loss: 1.0814 - val_acc: 0.7590\n",
      "Epoch 5/20\n",
      "7982/7982 [==============================] - 1s 171us/step - loss: 0.7062 - acc: 0.8477 - val_loss: 0.9852 - val_acc: 0.7820\n",
      "Epoch 6/20\n",
      "7982/7982 [==============================] - 1s 180us/step - loss: 0.5683 - acc: 0.8796 - val_loss: 0.9405 - val_acc: 0.8040\n",
      "Epoch 7/20\n",
      "7982/7982 [==============================] - 1s 181us/step - loss: 0.4600 - acc: 0.9044 - val_loss: 0.9090 - val_acc: 0.8020\n",
      "Epoch 8/20\n",
      "7982/7982 [==============================] - 1s 184us/step - loss: 0.3707 - acc: 0.9228 - val_loss: 0.9375 - val_acc: 0.7910\n",
      "Epoch 9/20\n",
      "7982/7982 [==============================] - 1s 172us/step - loss: 0.3040 - acc: 0.9307 - val_loss: 0.8903 - val_acc: 0.8050\n",
      "Epoch 10/20\n",
      "7982/7982 [==============================] - 1s 182us/step - loss: 0.2542 - acc: 0.9414 - val_loss: 0.9072 - val_acc: 0.8120\n",
      "Epoch 11/20\n",
      "7982/7982 [==============================] - 1s 177us/step - loss: 0.2188 - acc: 0.9471 - val_loss: 0.9170 - val_acc: 0.8130\n",
      "Epoch 12/20\n",
      "7982/7982 [==============================] - 1s 179us/step - loss: 0.1877 - acc: 0.9513 - val_loss: 0.9080 - val_acc: 0.8160\n",
      "Epoch 13/20\n",
      "7982/7982 [==============================] - 1s 174us/step - loss: 0.1704 - acc: 0.9523 - val_loss: 0.9322 - val_acc: 0.8110\n",
      "Epoch 14/20\n",
      "7982/7982 [==============================] - 1s 174us/step - loss: 0.1536 - acc: 0.9554 - val_loss: 0.9669 - val_acc: 0.8070\n",
      "Epoch 15/20\n",
      "7982/7982 [==============================] - 1s 174us/step - loss: 0.1389 - acc: 0.9562 - val_loss: 0.9711 - val_acc: 0.8140\n",
      "Epoch 16/20\n",
      "7982/7982 [==============================] - 1s 177us/step - loss: 0.1316 - acc: 0.9562 - val_loss: 1.0213 - val_acc: 0.8050\n",
      "Epoch 17/20\n",
      "7982/7982 [==============================] - 1s 178us/step - loss: 0.1221 - acc: 0.9579 - val_loss: 1.0265 - val_acc: 0.7970\n",
      "Epoch 18/20\n",
      "7982/7982 [==============================] - 1s 176us/step - loss: 0.1201 - acc: 0.9574 - val_loss: 1.0436 - val_acc: 0.8070\n",
      "Epoch 19/20\n",
      "7982/7982 [==============================] - 1s 177us/step - loss: 0.1139 - acc: 0.9595 - val_loss: 1.0987 - val_acc: 0.7960\n",
      "Epoch 20/20\n",
      "7982/7982 [==============================] - 1s 181us/step - loss: 0.1113 - acc: 0.9592 - val_loss: 1.0725 - val_acc: 0.7990\n"
     ]
    }
   ],
   "source": [
    "history=model.fit(partial_x_train, partial_y_train, epochs=20, batch_size=512, validation_data=(x_val, y_val))"
   ]
  },
  {
   "cell_type": "code",
   "execution_count": 8,
   "metadata": {},
   "outputs": [
    {
     "data": {
      "text/plain": [
       "<function matplotlib.pyplot.show(*args, **kw)>"
      ]
     },
     "execution_count": 8,
     "metadata": {},
     "output_type": "execute_result"
    }
   ],
   "source": [
    "import matplotlib .pyplot as plt\n",
    " \n",
    "\n",
    "loss=history.history['loss']\n",
    "val_loss=history.history['val_loss']\n",
    "\n",
    "epochs=range(1,len(loss)+1)\n",
    "\n",
    "plt.plot(epochs, loss, 'bo', label='Training losss')\n",
    "plt.plot(epochs, val_loss, 'b', label='Validation loss')\n",
    "plt.title('Training and validation loss')\n",
    "plt.xlabel('Epochs')\n",
    "plt.ylabel('Loss')\n",
    "plt.legend()\n",
    "\n",
    "plt.show"
   ]
  },
  {
   "cell_type": "code",
   "execution_count": 9,
   "metadata": {},
   "outputs": [
    {
     "data": {
      "text/plain": [
       "<matplotlib.legend.Legend at 0x29fc3b82c18>"
      ]
     },
     "execution_count": 9,
     "metadata": {},
     "output_type": "execute_result"
    },
    {
     "data": {
      "image/png": "[encoded data removed]",
      "text/plain": [
       "<Figure size 432x288 with 1 Axes>"
      ]
     },
     "metadata": {
      "needs_background": "light"
     },
     "output_type": "display_data"
    }
   ],
   "source": [
    "plt.clf()\n",
    "\n",
    "acc=history.history['acc']\n",
    "val_acc=history.history['val_acc']\n",
    "\n",
    "plt.plot(epochs, acc, 'bo', label='Training acc')\n",
    "plt.plot(epochs, val_acc, 'b', label='Validation acc')\n",
    "plt.title('Training and validation accuracy')\n",
    "plt.xlabel('Epochs')\n",
    "plt.ylabel('Accuracy')\n",
    "plt.legend()"
   ]
  },
  {
   "cell_type": "code",
   "execution_count": 10,
   "metadata": {},
   "outputs": [
    {
     "name": "stdout",
     "output_type": "stream",
     "text": [
      "Train on 7982 samples, validate on 1000 samples\n",
      "Epoch 1/9\n",
      "7982/7982 [==============================] - 2s 224us/step - loss: 2.5398 - acc: 0.5226 - val_loss: 1.6733 - val_acc: 0.6570\n",
      "Epoch 2/9\n",
      "7982/7982 [==============================] - 1s 174us/step - loss: 1.3712 - acc: 0.7121 - val_loss: 1.2758 - val_acc: 0.7210\n",
      "Epoch 3/9\n",
      "7982/7982 [==============================] - 1s 179us/step - loss: 1.0136 - acc: 0.7781 - val_loss: 1.1303 - val_acc: 0.7530\n",
      "Epoch 4/9\n",
      "7982/7982 [==============================] - 1s 183us/step - loss: 0.7976 - acc: 0.8251 - val_loss: 1.0539 - val_acc: 0.7590\n",
      "Epoch 5/9\n",
      "7982/7982 [==============================] - 1s 177us/step - loss: 0.6393 - acc: 0.8624 - val_loss: 0.9754 - val_acc: 0.7920\n",
      "Epoch 6/9\n",
      "7982/7982 [==============================] - 1s 176us/step - loss: 0.5124 - acc: 0.8921 - val_loss: 0.9102 - val_acc: 0.8140\n",
      "Epoch 7/9\n",
      "7982/7982 [==============================] - 1s 178us/step - loss: 0.4124 - acc: 0.9139 - val_loss: 0.8932 - val_acc: 0.8210\n",
      "Epoch 8/9\n",
      "7982/7982 [==============================] - 1s 179us/step - loss: 0.3355 - acc: 0.9290 - val_loss: 0.8733 - val_acc: 0.8260\n",
      "Epoch 9/9\n",
      "7982/7982 [==============================] - 1s 178us/step - loss: 0.2782 - acc: 0.9372 - val_loss: 0.9342 - val_acc: 0.8000\n",
      "2246/2246 [==============================] - 0s 219us/step\n"
     ]
    }
   ],
   "source": [
    "model=models.Sequential()\n",
    "model.add(layers.Dense(64, activation='relu', input_shape=(10000,)))\n",
    "model.add(layers.Dense(64, activation='relu'))\n",
    "model.add(layers.Dense(46, activation='softmax'))\n",
    "\n",
    "model.compile(optimizer='rmsprop', loss='categorical_crossentropy', metrics=['accuracy'])\n",
    "model.fit(partial_x_train, partial_y_train, epochs=9, batch_size=512, validation_data=(x_val, y_val))\n",
    "results=model.evaluate(x_test, one_hot_test_labels)"
   ]
  },
  {
   "cell_type": "code",
   "execution_count": 11,
   "metadata": {},
   "outputs": [],
   "source": [
    "predictions=model.predict(x_test)"
   ]
  },
  {
   "cell_type": "code",
   "execution_count": 12,
   "metadata": {},
   "outputs": [
    {
     "data": {
      "text/plain": [
       "[1.0227516803588594, 0.7756010686194165]"
      ]
     },
     "execution_count": 12,
     "metadata": {},
     "output_type": "execute_result"
    }
   ],
   "source": [
    "results"
   ]
  },
  {
   "cell_type": "code",
   "execution_count": 15,
   "metadata": {},
   "outputs": [
    {
     "name": "stdout",
     "output_type": "stream",
     "text": [
      "Train on 7982 samples, validate on 1000 samples\n",
      "Epoch 1/20\n",
      "7982/7982 [==============================] - 2s 287us/step - loss: 3.1696 - acc: 0.2433 - val_loss: 2.6142 - val_acc: 0.2740\n",
      "Epoch 2/20\n",
      "7982/7982 [==============================] - 2s 233us/step - loss: 2.0606 - acc: 0.5461 - val_loss: 1.7033 - val_acc: 0.5860\n",
      "Epoch 3/20\n",
      "7982/7982 [==============================] - 2s 223us/step - loss: 1.5012 - acc: 0.6233 - val_loss: 1.5122 - val_acc: 0.6390\n",
      "Epoch 4/20\n",
      "7982/7982 [==============================] - 2s 224us/step - loss: 1.2887 - acc: 0.6907 - val_loss: 1.4120 - val_acc: 0.6780\n",
      "Epoch 5/20\n",
      "7982/7982 [==============================] - 2s 228us/step - loss: 1.1457 - acc: 0.7159 - val_loss: 1.3673 - val_acc: 0.6830\n",
      "Epoch 6/20\n",
      "7982/7982 [==============================] - 2s 226us/step - loss: 1.0403 - acc: 0.7313 - val_loss: 1.3424 - val_acc: 0.6980\n",
      "Epoch 7/20\n",
      "7982/7982 [==============================] - 2s 225us/step - loss: 0.9587 - acc: 0.7422 - val_loss: 1.3388 - val_acc: 0.7010\n",
      "Epoch 8/20\n",
      "7982/7982 [==============================] - 2s 225us/step - loss: 0.8896 - acc: 0.7526 - val_loss: 1.3372 - val_acc: 0.7040\n",
      "Epoch 9/20\n",
      "7982/7982 [==============================] - 2s 222us/step - loss: 0.8266 - acc: 0.7692 - val_loss: 1.3596 - val_acc: 0.7090\n",
      "Epoch 10/20\n",
      "7982/7982 [==============================] - 2s 222us/step - loss: 0.7670 - acc: 0.7890 - val_loss: 1.3728 - val_acc: 0.7110\n",
      "Epoch 11/20\n",
      "7982/7982 [==============================] - 2s 228us/step - loss: 0.7128 - acc: 0.8052 - val_loss: 1.3971 - val_acc: 0.7160\n",
      "Epoch 12/20\n",
      "7982/7982 [==============================] - 2s 223us/step - loss: 0.6672 - acc: 0.8170 - val_loss: 1.4007 - val_acc: 0.7210\n",
      "Epoch 13/20\n",
      "7982/7982 [==============================] - 2s 226us/step - loss: 0.6231 - acc: 0.8301 - val_loss: 1.4599 - val_acc: 0.7180\n",
      "Epoch 14/20\n",
      "7982/7982 [==============================] - 2s 223us/step - loss: 0.5860 - acc: 0.8366 - val_loss: 1.4702 - val_acc: 0.7210\n",
      "Epoch 15/20\n",
      "7982/7982 [==============================] - 2s 224us/step - loss: 0.5521 - acc: 0.8459 - val_loss: 1.5118 - val_acc: 0.7170\n",
      "Epoch 16/20\n",
      "7982/7982 [==============================] - 2s 226us/step - loss: 0.5228 - acc: 0.8557 - val_loss: 1.5592 - val_acc: 0.7160\n",
      "Epoch 17/20\n",
      "7982/7982 [==============================] - 2s 225us/step - loss: 0.4958 - acc: 0.8648 - val_loss: 1.5719 - val_acc: 0.7190\n",
      "Epoch 18/20\n",
      "7982/7982 [==============================] - 2s 231us/step - loss: 0.4694 - acc: 0.8791 - val_loss: 1.6396 - val_acc: 0.7180\n",
      "Epoch 19/20\n",
      "7982/7982 [==============================] - 2s 225us/step - loss: 0.4462 - acc: 0.8845 - val_loss: 1.6695 - val_acc: 0.7160\n",
      "Epoch 20/20\n",
      "7982/7982 [==============================] - 2s 239us/step - loss: 0.4274 - acc: 0.8894 - val_loss: 1.7346 - val_acc: 0.7170\n"
     ]
    },
    {
     "data": {
      "text/plain": [
       "<keras.callbacks.History at 0x29f81a7ea20>"
      ]
     },
     "execution_count": 15,
     "metadata": {},
     "output_type": "execute_result"
    }
   ],
   "source": [
    "model=models.Sequential()\n",
    "model.add(layers.Dense(64, activation='relu', input_shape=(10000,)))\n",
    "model.add(layers.Dense(4, activation='relu'))\n",
    "model.add(layers.Dense(46, activation='softmax'))\n",
    "\n",
    "model.compile(optimizer='rmsprop', loss='categorical_crossentropy',metrics=['acc'])\n",
    "model.fit(partial_x_train, partial_y_train, epochs=20, batch_size=128, validation_data=(x_val, y_val))"
   ]
  },
  {
   "cell_type": "code",
   "execution_count": 19,
   "metadata": {},
   "outputs": [
    {
     "name": "stdout",
     "output_type": "stream",
     "text": [
      "2246/2246 [==============================] - 0s 203us/step\n"
     ]
    }
   ],
   "source": [
    "results=model.evaluate(x_test, one_hot_test_labels)"
   ]
  },
  {
   "cell_type": "code",
   "execution_count": 20,
   "metadata": {},
   "outputs": [
    {
     "data": {
      "text/plain": [
       "[1.963443645704886, 0.6905609973285841]"
      ]
     },
     "execution_count": 20,
     "metadata": {},
     "output_type": "execute_result"
    }
   ],
   "source": [
    "results"
   ]
  },
  {
   "cell_type": "code",
   "execution_count": null,
   "metadata": {},
   "outputs": [],
   "source": []
  }
 ],
 "metadata": {
  "kernelspec": {
   "display_name": "Python 3",
   "language": "python",
   "name": "python3"
  },
  "language_info": {
   "codemirror_mode": {
    "name": "ipython",
    "version": 3
   },
   "file_extension": ".py",
   "mimetype": "text/x-python",
   "name": "python",
   "nbconvert_exporter": "python",
   "pygments_lexer": "ipython3",
   "version": "3.7.3"
  }
 },
 "nbformat": 4,
 "nbformat_minor": 2
}
