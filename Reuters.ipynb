{
 "cells": [
  {
   "cell_type": "markdown",
   "metadata": {},
   "source": [
    "Reuter Dataset은 46개의 토픽으로 이루어진 뉴스기사를 모아 놓은 데이터 셋이다. 각 토픽 범주는 최소 10개의 기사를 가지고 있다. \n",
    "해당 데이터 셋은 사용하는 단어를 딕셔너리 형태로 저장해놓고 숫자로 변환하여 매핑하는 방식을 취한다. 즉, 각 샘플(기사)은 기사에서 사용한 단어를 딕셔너리를 참조하여 숫자리스트로 구성한 형식을 가진다. 각 샘플의 라벨은 어느 토픽 범주에 속하는지를 가리키는 수치이다. \n",
    "\n",
    "글을 input값으로 주면, 해당 글이 어떤 범주에 속하는지 맞추는 것이 해당 모델의 목적이다. "
   ]
  },
  {
   "cell_type": "code",
   "execution_count": 1,
   "metadata": {},
   "outputs": [
    {
     "name": "stderr",
     "output_type": "stream",
     "text": [
      "Using TensorFlow backend.\n"
     ]
    }
   ],
   "source": [
    "from keras.datasets import reuters\n",
    "\n",
    "(train_data,train_labels), (test_data, test_labels)=reuters.load_data(num_words=10000)"
   ]
  },
  {
   "cell_type": "markdown",
   "metadata": {},
   "source": [
    "제공된 딕셔너리의 key, value를 뒤집는 코드가 아래와 같다. \n",
    "모델 훈련에 직접적인 연관은 없다."
   ]
  },
  {
   "cell_type": "code",
   "execution_count": 2,
   "metadata": {},
   "outputs": [],
   "source": [
    "word_index=reuters.get_word_index()\n",
    "reverse_word_index=dict([(value, key)for (key, value) in word_index.items()])\n",
    "decoded_newswire=' '.join([reverse_word_index.get(i-3,'?') for i in train_data[0]])"
   ]
  },
  {
   "cell_type": "markdown",
   "metadata": {},
   "source": [
    "해당 데이터를 one-hot encoding을 사용하여 0과 1로만 이루어진 벡터로 변환한다.  "
   ]
  },
  {
   "cell_type": "code",
   "execution_count": 3,
   "metadata": {},
   "outputs": [],
   "source": [
    "import numpy as np\n",
    "from keras.utils.np_utils import to_categorical\n",
    "\n",
    "def vectorize_seq(sequences, dimension=10000):\n",
    "    results=np.zeros((len(sequences), dimension))\n",
    "    for i, sequence in enumerate(sequences):\n",
    "        results[i,sequence]=1.\n",
    "    return results\n",
    "\n",
    "x_train=vectorize_seq(train_data)\n",
    "x_test=vectorize_seq(test_data)\n",
    "one_hot_train_labels=to_categorical(train_labels)\n",
    "one_hot_test_labels=to_categorical(test_labels)"
   ]
  },
  {
   "cell_type": "markdown",
   "metadata": {},
   "source": [
    "모델을 만드는 단계이다. input의특성을 충분히 반영할 수 있도록 은닉유닛을 64로 설정하였다. 또한 output을 만들 때, 46개의 범주화된 결과를 반환하여야하기 때문에 softmax를 결과단 activation function으로 설정한다. 만약 은닉층의 은닉유닛의 갯수가 적어서 데이터의 특징을 잘 반영해주지 못하면 필요한 특징 정보가 생략될 가능성이 크다."
   ]
  },
  {
   "cell_type": "code",
   "execution_count": 4,
   "metadata": {},
   "outputs": [
    {
     "name": "stdout",
     "output_type": "stream",
     "text": [
      "WARNING:tensorflow:From C:\\Users\\dhk13\\Anaconda3\\lib\\site-packages\\tensorflow\\python\\framework\\op_def_library.py:263: colocate_with (from tensorflow.python.framework.ops) is deprecated and will be removed in a future version.\n",
      "Instructions for updating:\n",
      "Colocations handled automatically by placer.\n"
     ]
    }
   ],
   "source": [
    "from keras import models\n",
    "from keras import layers\n",
    "\n",
    "model = models.Sequential()\n",
    "model.add(layers.Dense(64, activation='relu', input_shape=(10000,)))\n",
    "model.add(layers.Dense(64, activation='relu'))\n",
    "model.add(layers.Dense(46, activation='softmax'))"
   ]
  },
  {
   "cell_type": "code",
   "execution_count": 5,
   "metadata": {},
   "outputs": [],
   "source": [
    "model.compile(optimizer='rmsprop', loss='categorical_crossentropy', metrics=['accuracy'])"
   ]
  },
  {
   "cell_type": "markdown",
   "metadata": {},
   "source": [
    "모델을 훈련하기 위해서 1000개의 데이터 샘플을 훈련하는 partial_x_train과 partial_y_train으로 두고, 나머지는 epoch를 돌 때마다 훈련의 효과를 측정하기 위한 샘플로 둔다. "
   ]
  },
  {
   "cell_type": "code",
   "execution_count": 6,
   "metadata": {},
   "outputs": [],
   "source": [
    "x_val=x_train[:1000]\n",
    "partial_x_train=x_train[1000:]\n",
    "\n",
    "y_val=one_hot_train_labels[:1000]\n",
    "partial_y_train=one_hot_train_labels[1000:]"
   ]
  },
  {
   "cell_type": "markdown",
   "metadata": {},
   "source": [
    "만들어진 모델을 가지고 epoch=20 옵션을 주고 신경망을 훈련하였다."
   ]
  },
  {
   "cell_type": "code",
   "execution_count": 7,
   "metadata": {},
   "outputs": [
    {
     "name": "stdout",
     "output_type": "stream",
     "text": [
      "WARNING:tensorflow:From C:\\Users\\dhk13\\Anaconda3\\lib\\site-packages\\tensorflow\\python\\ops\\math_ops.py:3066: to_int32 (from tensorflow.python.ops.math_ops) is deprecated and will be removed in a future version.\n",
      "Instructions for updating:\n",
      "Use tf.cast instead.\n",
      "Train on 7982 samples, validate on 1000 samples\n",
      "Epoch 1/20\n",
      "7982/7982 [==============================] - 2s 312us/step - loss: 2.5332 - acc: 0.4946 - val_loss: 1.7232 - val_acc: 0.6110\n",
      "Epoch 2/20\n",
      "7982/7982 [==============================] - 1s 186us/step - loss: 1.4502 - acc: 0.6868 - val_loss: 1.3506 - val_acc: 0.7090\n",
      "Epoch 3/20\n",
      "7982/7982 [==============================] - 2s 188us/step - loss: 1.1000 - acc: 0.7641 - val_loss: 1.1728 - val_acc: 0.7430\n",
      "Epoch 4/20\n",
      "7982/7982 [==============================] - 2s 191us/step - loss: 0.8719 - acc: 0.8161 - val_loss: 1.0797 - val_acc: 0.7610\n",
      "Epoch 5/20\n",
      "7982/7982 [==============================] - 2s 190us/step - loss: 0.7046 - acc: 0.8478 - val_loss: 0.9848 - val_acc: 0.78300s - loss: 0.7045 - acc: 0.84\n",
      "Epoch 6/20\n",
      "7982/7982 [==============================] - 2s 206us/step - loss: 0.5674 - acc: 0.8794 - val_loss: 0.9397 - val_acc: 0.8020\n",
      "Epoch 7/20\n",
      "7982/7982 [==============================] - 2s 199us/step - loss: 0.4597 - acc: 0.9039 - val_loss: 0.9085 - val_acc: 0.8020\n",
      "Epoch 8/20\n",
      "7982/7982 [==============================] - 2s 197us/step - loss: 0.3702 - acc: 0.9231 - val_loss: 0.9353 - val_acc: 0.7920\n",
      "Epoch 9/20\n",
      "7982/7982 [==============================] - 1s 185us/step - loss: 0.3032 - acc: 0.9312 - val_loss: 0.8904 - val_acc: 0.8070\n",
      "Epoch 10/20\n",
      "7982/7982 [==============================] - 1s 183us/step - loss: 0.2536 - acc: 0.9422 - val_loss: 0.9051 - val_acc: 0.8140\n",
      "Epoch 11/20\n",
      "7982/7982 [==============================] - 1s 187us/step - loss: 0.2180 - acc: 0.9478 - val_loss: 0.9129 - val_acc: 0.8110\n",
      "Epoch 12/20\n",
      "7982/7982 [==============================] - 1s 183us/step - loss: 0.1871 - acc: 0.9514 - val_loss: 0.9073 - val_acc: 0.8120\n",
      "Epoch 13/20\n",
      "7982/7982 [==============================] - 1s 187us/step - loss: 0.1696 - acc: 0.9525 - val_loss: 0.9328 - val_acc: 0.8080\n",
      "Epoch 14/20\n",
      "7982/7982 [==============================] - 1s 182us/step - loss: 0.1531 - acc: 0.9560 - val_loss: 0.9654 - val_acc: 0.8070\n",
      "Epoch 15/20\n",
      "7982/7982 [==============================] - 1s 184us/step - loss: 0.1387 - acc: 0.9559 - val_loss: 0.9683 - val_acc: 0.8120\n",
      "Epoch 16/20\n",
      "7982/7982 [==============================] - 1s 185us/step - loss: 0.1313 - acc: 0.9563 - val_loss: 1.0209 - val_acc: 0.8050\n",
      "Epoch 17/20\n",
      "7982/7982 [==============================] - 1s 182us/step - loss: 0.1214 - acc: 0.9577 - val_loss: 1.0195 - val_acc: 0.7980\n",
      "Epoch 18/20\n",
      "7982/7982 [==============================] - 1s 184us/step - loss: 0.1199 - acc: 0.9573 - val_loss: 1.0384 - val_acc: 0.8060\n",
      "Epoch 19/20\n",
      "7982/7982 [==============================] - 1s 182us/step - loss: 0.1140 - acc: 0.9593 - val_loss: 1.0957 - val_acc: 0.7940\n",
      "Epoch 20/20\n",
      "7982/7982 [==============================] - 1s 185us/step - loss: 0.1107 - acc: 0.9593 - val_loss: 1.0653 - val_acc: 0.8000\n"
     ]
    }
   ],
   "source": [
    "history=model.fit(partial_x_train, partial_y_train, epochs=20, batch_size=512, validation_data=(x_val, y_val))"
   ]
  },
  {
   "cell_type": "code",
   "execution_count": 8,
   "metadata": {},
   "outputs": [
    {
     "data": {
      "text/plain": [
       "<Figure size 640x480 with 1 Axes>"
      ]
     },
     "metadata": {},
     "output_type": "display_data"
    }
   ],
   "source": [
    "import matplotlib .pyplot as plt\n",
    " \n",
    "\n",
    "loss=history.history['loss']\n",
    "val_loss=history.history['val_loss']\n",
    "\n",
    "epochs=range(1,len(loss)+1)\n",
    "\n",
    "plt.plot(epochs, loss, 'bo', label='Training losss')\n",
    "plt.plot(epochs, val_loss, 'b', label='Validation loss')\n",
    "plt.title('Training and validation loss')\n",
    "plt.xlabel('Epochs')\n",
    "plt.ylabel('Loss')\n",
    "plt.legend()\n",
    "\n",
    "plt.show();"
   ]
  },
  {
   "cell_type": "code",
   "execution_count": 9,
   "metadata": {},
   "outputs": [
    {
     "data": {
      "image/png": "[encoded data removed]",
      "text/plain": [
       "<Figure size 432x288 with 1 Axes>"
      ]
     },
     "metadata": {
      "needs_background": "light"
     },
     "output_type": "display_data"
    }
   ],
   "source": [
    "plt.clf()\n",
    "\n",
    "acc=history.history['acc']\n",
    "val_acc=history.history['val_acc']\n",
    "\n",
    "plt.plot(epochs, acc, 'bo', label='Training acc')\n",
    "plt.plot(epochs, val_acc, 'b', label='Validation acc')\n",
    "plt.title('Training and validation accuracy')\n",
    "plt.xlabel('Epochs')\n",
    "plt.ylabel('Accuracy')\n",
    "plt.legend()\n",
    "\n",
    "plt.show();"
   ]
  },
  {
   "cell_type": "markdown",
   "metadata": {},
   "source": [
    "그래프로 정확도 및 손실을 평가한 결과, epoch가 9회 정도일 때부터 overfitting 현상이 일어나기 시작한다. \n",
    "신경망을 효과적으로 훈련하기 위해서 epoch를 9로 재설정하여 동일 모델을 다시 훈련한다."
   ]
  },
  {
   "cell_type": "code",
   "execution_count": 10,
   "metadata": {},
   "outputs": [
    {
     "name": "stdout",
     "output_type": "stream",
     "text": [
      "Train on 7982 samples, validate on 1000 samples\n",
      "Epoch 1/9\n",
      "7982/7982 [==============================] - 2s 262us/step - loss: 2.5381 - acc: 0.5229 - val_loss: 1.6756 - val_acc: 0.6560\n",
      "Epoch 2/9\n",
      "7982/7982 [==============================] - 2s 194us/step - loss: 1.3726 - acc: 0.7116 - val_loss: 1.2768 - val_acc: 0.7220\n",
      "Epoch 3/9\n",
      "7982/7982 [==============================] - 2s 188us/step - loss: 1.0153 - acc: 0.7794 - val_loss: 1.1327 - val_acc: 0.7510\n",
      "Epoch 4/9\n",
      "7982/7982 [==============================] - 2s 188us/step - loss: 0.7996 - acc: 0.8250 - val_loss: 1.0540 - val_acc: 0.7600\n",
      "Epoch 5/9\n",
      "7982/7982 [==============================] - 1s 188us/step - loss: 0.6409 - acc: 0.8626 - val_loss: 0.9754 - val_acc: 0.7940\n",
      "Epoch 6/9\n",
      "7982/7982 [==============================] - 1s 187us/step - loss: 0.5126 - acc: 0.8920 - val_loss: 0.9092 - val_acc: 0.8140\n",
      "Epoch 7/9\n",
      "7982/7982 [==============================] - 2s 192us/step - loss: 0.4123 - acc: 0.9138 - val_loss: 0.8932 - val_acc: 0.8220\n",
      "Epoch 8/9\n",
      "7982/7982 [==============================] - 2s 202us/step - loss: 0.3361 - acc: 0.9286 - val_loss: 0.8736 - val_acc: 0.8260\n",
      "Epoch 9/9\n",
      "7982/7982 [==============================] - 2s 197us/step - loss: 0.2790 - acc: 0.9371 - val_loss: 0.9338 - val_acc: 0.8010\n",
      "2246/2246 [==============================] - 1s 578us/step\n"
     ]
    }
   ],
   "source": [
    "model=models.Sequential()\n",
    "model.add(layers.Dense(64, activation='relu', input_shape=(10000,)))\n",
    "model.add(layers.Dense(64, activation='relu'))\n",
    "model.add(layers.Dense(46, activation='softmax'))\n",
    "\n",
    "model.compile(optimizer='rmsprop', loss='categorical_crossentropy', metrics=['accuracy'])\n",
    "model.fit(partial_x_train, partial_y_train, epochs=9, batch_size=512, validation_data=(x_val, y_val))\n",
    "results=model.evaluate(x_test, one_hot_test_labels)"
   ]
  },
  {
   "cell_type": "code",
   "execution_count": 11,
   "metadata": {},
   "outputs": [],
   "source": [
    "predictions=model.predict(x_test)"
   ]
  },
  {
   "cell_type": "code",
   "execution_count": 12,
   "metadata": {},
   "outputs": [
    {
     "data": {
      "text/plain": [
       "[1.0211920186227066, 0.7773820125196835]"
      ]
     },
     "execution_count": 12,
     "metadata": {},
     "output_type": "execute_result"
    }
   ],
   "source": [
    "results"
   ]
  },
  {
   "cell_type": "markdown",
   "metadata": {},
   "source": [
    "변수 result에 저장된 값에 따르면, 다시 훈련을 한 후의 정확도는 77% 정도이다. "
   ]
  },
  {
   "cell_type": "markdown",
   "metadata": {},
   "source": [
    "아래는 신경망 모델이 데이터 셋의 자료를 대소화하지 못할 정도록 변수가 적어지면 어떻게 되는지 보기 위해서 두 번째 layer의 hidden unit의 갯수를 급격하게 줄여본 것이다."
   ]
  },
  {
   "cell_type": "code",
   "execution_count": 13,
   "metadata": {},
   "outputs": [
    {
     "name": "stdout",
     "output_type": "stream",
     "text": [
      "Train on 7982 samples, validate on 1000 samples\n",
      "Epoch 1/20\n",
      "7982/7982 [==============================] - 3s 334us/step - loss: 3.1697 - acc: 0.2437 - val_loss: 2.6143 - val_acc: 0.2730\n",
      "Epoch 2/20\n",
      "7982/7982 [==============================] - 2s 262us/step - loss: 2.0614 - acc: 0.5451 - val_loss: 1.7034 - val_acc: 0.5850\n",
      "Epoch 3/20\n",
      "7982/7982 [==============================] - 2s 264us/step - loss: 1.5031 - acc: 0.6215 - val_loss: 1.5126 - val_acc: 0.6370\n",
      "Epoch 4/20\n",
      "7982/7982 [==============================] - 2s 257us/step - loss: 1.2914 - acc: 0.6899 - val_loss: 1.4159 - val_acc: 0.6760\n",
      "Epoch 5/20\n",
      "7982/7982 [==============================] - 2s 264us/step - loss: 1.1475 - acc: 0.7160 - val_loss: 1.3641 - val_acc: 0.6840\n",
      "Epoch 6/20\n",
      "7982/7982 [==============================] - 2s 263us/step - loss: 1.0411 - acc: 0.7316 - val_loss: 1.3411 - val_acc: 0.6980\n",
      "Epoch 7/20\n",
      "7982/7982 [==============================] - 2s 296us/step - loss: 0.9590 - acc: 0.7429 - val_loss: 1.3395 - val_acc: 0.7020\n",
      "Epoch 8/20\n",
      "7982/7982 [==============================] - 2s 287us/step - loss: 0.8906 - acc: 0.7539 - val_loss: 1.3371 - val_acc: 0.7030\n",
      "Epoch 9/20\n",
      "7982/7982 [==============================] - 2s 287us/step - loss: 0.8279 - acc: 0.7675 - val_loss: 1.3600 - val_acc: 0.7100\n",
      "Epoch 10/20\n",
      "7982/7982 [==============================] - 2s 263us/step - loss: 0.7678 - acc: 0.7875 - val_loss: 1.3740 - val_acc: 0.7100\n",
      "Epoch 11/20\n",
      "7982/7982 [==============================] - 2s 263us/step - loss: 0.7146 - acc: 0.8041 - val_loss: 1.3978 - val_acc: 0.7160\n",
      "Epoch 12/20\n",
      "7982/7982 [==============================] - 2s 261us/step - loss: 0.6691 - acc: 0.8163 - val_loss: 1.3991 - val_acc: 0.7190\n",
      "Epoch 13/20\n",
      "7982/7982 [==============================] - 2s 264us/step - loss: 0.6254 - acc: 0.8306 - val_loss: 1.4532 - val_acc: 0.7090\n",
      "Epoch 14/20\n",
      "7982/7982 [==============================] - 2s 261us/step - loss: 0.5887 - acc: 0.8358 - val_loss: 1.4704 - val_acc: 0.7180\n",
      "Epoch 15/20\n",
      "7982/7982 [==============================] - 2s 274us/step - loss: 0.5546 - acc: 0.8454 - val_loss: 1.5125 - val_acc: 0.7180\n",
      "Epoch 16/20\n",
      "7982/7982 [==============================] - 2s 265us/step - loss: 0.5240 - acc: 0.8553 - val_loss: 1.5566 - val_acc: 0.7190\n",
      "Epoch 17/20\n",
      "7982/7982 [==============================] - 2s 288us/step - loss: 0.4961 - acc: 0.8662 - val_loss: 1.5716 - val_acc: 0.7200\n",
      "Epoch 18/20\n",
      "7982/7982 [==============================] - 2s 263us/step - loss: 0.4702 - acc: 0.8814 - val_loss: 1.6463 - val_acc: 0.7170\n",
      "Epoch 19/20\n",
      "7982/7982 [==============================] - 2s 266us/step - loss: 0.4460 - acc: 0.8865 - val_loss: 1.6849 - val_acc: 0.7120\n",
      "Epoch 20/20\n",
      "7982/7982 [==============================] - 2s 283us/step - loss: 0.4277 - acc: 0.8905 - val_loss: 1.7251 - val_acc: 0.7170\n"
     ]
    },
    {
     "data": {
      "text/plain": [
       "<keras.callbacks.History at 0x24938bd6860>"
      ]
     },
     "execution_count": 13,
     "metadata": {},
     "output_type": "execute_result"
    }
   ],
   "source": [
    "model=models.Sequential()\n",
    "model.add(layers.Dense(64, activation='relu', input_shape=(10000,)))\n",
    "model.add(layers.Dense(4, activation='relu'))\n",
    "model.add(layers.Dense(46, activation='softmax'))\n",
    "\n",
    "model.compile(optimizer='rmsprop', loss='categorical_crossentropy',metrics=['acc'])\n",
    "model.fit(partial_x_train, partial_y_train, epochs=20, batch_size=128, validation_data=(x_val, y_val))"
   ]
  },
  {
   "cell_type": "code",
   "execution_count": 14,
   "metadata": {},
   "outputs": [
    {
     "name": "stdout",
     "output_type": "stream",
     "text": [
      "2246/2246 [==============================] - 1s 272us/step\n"
     ]
    }
   ],
   "source": [
    "results=model.evaluate(x_test, one_hot_test_labels)"
   ]
  },
  {
   "cell_type": "markdown",
   "metadata": {},
   "source": [
    "46개의 카테고리를 분류해야하는데, 중간 층에서 이를 고려하는 가중치의 갯수가 4개로 줄었다. 그 결과 데이터에서 고려해야할 변수(?)들이 축약 혹은 생략되었고 그 결과는 아래와 같다."
   ]
  },
  {
   "cell_type": "code",
   "execution_count": 15,
   "metadata": {},
   "outputs": [
    {
     "data": {
      "text/plain": [
       "[1.9518576838135826, 0.6878895814781835]"
      ]
     },
     "execution_count": 15,
     "metadata": {},
     "output_type": "execute_result"
    }
   ],
   "source": [
    "results"
   ]
  },
  {
   "cell_type": "raw",
   "metadata": {},
   "source": [
    "변수 results에 따르면 정확도가 약 68%정도로 떨어졌다."
   ]
  }
 ],
 "metadata": {
  "kernelspec": {
   "display_name": "Python 3",
   "language": "python",
   "name": "python3"
  },
  "language_info": {
   "codemirror_mode": {
    "name": "ipython",
    "version": 3
   },
   "file_extension": ".py",
   "mimetype": "text/x-python",
   "name": "python",
   "nbconvert_exporter": "python",
   "pygments_lexer": "ipython3",
   "version": "3.7.3"
  }
 },
 "nbformat": 4,
 "nbformat_minor": 2
}
