{
 "cells": [
  {
   "cell_type": "markdown",
   "metadata": {},
   "source": [
    "<h2>IMDB dateset</h2>\n",
    "IMDB는 (영화 리뷰, 리뷰의 긍정부정 값)을 한 쌍의 데이터 값으로, 50,000개의 샘플을 모아 놓은 데이터 셋이다. 이 중 25,000개의 댓글 셈플은 트레이닝 샘플이며, 나머지 25,000개의 댓글 샘플은 테스팅 샘플이다.<br>\n",
    "다시말해, 해당 데이터 셋에는 50000개의 영화 리뷰를 가지고 있으며, 모든 리뷰들은 결과 값(부정 혹은 긍적) 값을 결과 값으로 가지고 있다. 해당 데이터 셋의 결과 값이 이진 데이터라는 특성 때문에 해당 데이터 셋을 사용하는 신경망 모델의 목적은 주로 binary classification을 목적으로 한다.\n",
    "\n",
    "해당 파일에서는 편의를 위해 데이터를 로드할 때, 가장 빈번하게 사용되는 20,000개의 단어들만 포함하여 로드하였다."
   ]
  },
  {
   "cell_type": "code",
   "execution_count": 2,
   "metadata": {},
   "outputs": [],
   "source": [
    "from keras.datasets import imdb\n",
    "\n",
    "(x_train, y_train), (x_test, y_test)=imdb.load_data(num_words=20000)"
   ]
  },
  {
   "cell_type": "markdown",
   "metadata": {},
   "source": [
    "모델 내부에서 training을 위한 데이터와 이를 각 epoch에서 검증하기 위한 데이터를 분류 하기 위해 25,000개의 데이터를 분할하였다.<br>\n",
    "25,000개이 샘플 중 20,000개는 트레이닝을 위한 샘플, 나머지 5,000개는 트레이닝 후 정확도 평가를 위한 validation 샘플로 두었다."
   ]
  },
  {
   "cell_type": "code",
   "execution_count": 3,
   "metadata": {},
   "outputs": [],
   "source": [
    "x_val=x_train[20000:]\n",
    "y_val=y_train[20000:]\n",
    "\n",
    "x_train=x_train[:20000]\n",
    "y_train=y_train[:20000]"
   ]
  },
  {
   "cell_type": "markdown",
   "metadata": {},
   "source": [
    "pad_sequence() function<br>\n",
    "pad_sequence()라는 함수는 케라스에 내장되어 있는 함수로, 데이터 전처리를 하는 것이 그 용도이다. <br> 해당 함수를 사용하면, 샘플 간의 길이를 균등하게 맞출 수 있다."
   ]
  },
  {
   "cell_type": "code",
   "execution_count": 5,
   "metadata": {},
   "outputs": [],
   "source": [
    "from keras.preprocessing import sequence\n",
    "\n",
    "x_train=sequence.pad_sequences(x_train, maxlen=200)\n",
    "x_val=sequence.pad_sequences(x_val, maxlen=200)\n",
    "x_test=sequence.pad_sequences(x_test, maxlen=200)"
   ]
  },
  {
   "cell_type": "markdown",
   "metadata": {},
   "source": [
    "<h3>모델 구성</h3>\n",
    "\n",
    "<h4>Sequential() 함수로 모델을 초기화 한다.</h4>\n",
    "\n",
    "<h4>Embedding()층을 추가한다</h4>\n",
    "Embedding()은 one-hot-encoding보다 훨씬 적은 공간을 사용한다. 또한 해당 층을 추가하면 단어 간의 연관성을 고려한 벡터가 만들어지기 때문에 훨씬 유의미한 훈련이 가능하다.\n",
    "\n",
    "<h4>Dropout</h4>\n",
    "Dropout은 훈련 중에 과대적합을 방지하기 위해서 추가된 층이다.\n",
    "\n",
    "<h4>Conv1D</h4>\n",
    "Convolutional Neural Network(CNN)은 주로 2차원으로 사용할 때 이미지 훈련에서 빈번하게 사용된다. 하지만 이 외의 분류 모델에서도 사용이 용이하다.\n",
    "CNN은 지정한 갯수만큼의 fileter(합성곱 윈도우)를 가지고 데이터가 가지고 있는 패턴을 찾아낸다. 이 때, 필터를 많이 가지고 있을수록, 더 다양한 패턴을 인식하게 된다. 그러나 연산량은 많아진다.\n",
    "\n",
    "<h4>GlobalMaxPooling</h4>\n",
    "Pooling은 벡터에서 특징적인 값만 추출하는 과정이다. 특정한 벡터만 추출해서 사용하게 되면 과대적합 문제를 해결하는데에 도움을 줄 수 있다.\n",
    "GlobalMaxPooling의 경우에는 여러 개의 벡터 정보 중에서 가장 큰 정보만 추출해오는 pooling 방법인다.\n",
    "\n",
    "<h4>LSTM</h4>\n",
    "LSTM은 Long Short-term Memory의 약자이다. 이는 기본적인 RNN 신경망 구조에서 변형된 형태이다. 기존의 RNN은 입력값의 시퀀스 길이가 길어질 때, 훈련이 반영이 잘 되지 않는 \"Vanishing gradient\"문제 떄문에 해당 모델이 구상되었다.\n",
    "해당 모델은 훈련이 거듭될 때마다 결과 값을 기억하고 있는다. 다만, 새로운 입력값과 기억하고 있는 데이터의 연관 정도를 고려하여 기억 데이터의 일부분을 삭제하고 새로운 입력 값을 기억한다는 적이 해당 기법의 특이한 점이다.\n",
    "\n",
    "<h4>출력층: Sigmoid 함수</h4>\n",
    "해당 모델의 목적은 입력되는 리뷰의 긍정 부정을 판별하는 것이다. Binary classification에 적합한 Sigmoid 함수를 사용하였다.\n",
    "\n",
    "\n",
    "<h4>CNN과 RNN을 혼합해서 사용하는 이유</h4>\n",
    "<p><span style=\"color:red\">\n",
    "    CNN은 연산 부하가  RNN에 비해 적다. 그리고 CNN을 사용하여 학습한 신경망은 데이터의 특징값을 효과적으로 추출한다는 특징을 가지고 있다. 반면에 RNN은 연산 부하가 크기 때문에 많은 양의 데이터를 가지고 학습을 진행하기에는 무리가 있다.  <br>\n",
    "    이를 해결하기 위해서 CNN을 RNN 학습을 시키기 전에 특징값만 추출하는 전처리 층처럼 사용한다. 그렇게 되면 샘플 데이터 중에서 특징적인 데이터를 추출해내면서 데이터의 크기를 줄여서 연산 속도와 예측 정확도를 높일 수 있다.\n",
    "</span></p>"
   ]
  },
  {
   "cell_type": "code",
   "execution_count": 11,
   "metadata": {},
   "outputs": [
    {
     "name": "stdout",
     "output_type": "stream",
     "text": [
      "_________________________________________________________________\n",
      "Layer (type)                 Output Shape              Param #   \n",
      "=================================================================\n",
      "embedding_5 (Embedding)      (None, 200, 128)          2560000   \n",
      "_________________________________________________________________\n",
      "dropout_5 (Dropout)          (None, 200, 128)          0         \n",
      "_________________________________________________________________\n",
      "conv1d_3 (Conv1D)            (None, 198, 256)          98560     \n",
      "_________________________________________________________________\n",
      "max_pooling1d_3 (MaxPooling1 (None, 49, 256)           0         \n",
      "_________________________________________________________________\n",
      "lstm_3 (LSTM)                (None, 128)               197120    \n",
      "_________________________________________________________________\n",
      "dense_2 (Dense)              (None, 1)                 129       \n",
      "=================================================================\n",
      "Total params: 2,855,809\n",
      "Trainable params: 2,855,809\n",
      "Non-trainable params: 0\n",
      "_________________________________________________________________\n"
     ]
    }
   ],
   "source": [
    "from keras.models import Sequential\n",
    "from keras.layers import Embedding,Dense, Dropout, Conv1D, MaxPooling1D, LSTM\n",
    "\n",
    "model=Sequential()\n",
    "model.add(Embedding(20000, 128, input_length=200))\n",
    "model.add(Dropout(0.2))\n",
    "model.add(Conv1D(256, 3, padding='valid', activation='relu', strides=1))\n",
    "model.add(MaxPooling1D(pool_size=4))\n",
    "model.add(LSTM(128))\n",
    "model.add(Dense(1,  activation='sigmoid'))\n",
    "\n",
    "model.compile(loss='binary_crossentropy', optimizer='adam', metrics=['accuracy'])\n",
    "model.summary()"
   ]
  },
  {
   "cell_type": "code",
   "execution_count": 12,
   "metadata": {},
   "outputs": [
    {
     "name": "stdout",
     "output_type": "stream",
     "text": [
      "WARNING:tensorflow:From C:\\Users\\dhk13\\Anaconda3\\lib\\site-packages\\tensorflow\\python\\ops\\math_ops.py:3066: to_int32 (from tensorflow.python.ops.math_ops) is deprecated and will be removed in a future version.\n",
      "Instructions for updating:\n",
      "Use tf.cast instead.\n",
      "Train on 20000 samples, validate on 5000 samples\n",
      "Epoch 1/25\n",
      "20000/20000 [==============================] - 121s 6ms/step - loss: 0.4131 - acc: 0.7960 - val_loss: 0.2929 - val_acc: 0.8760\n",
      "Epoch 2/25\n",
      "20000/20000 [==============================] - 118s 6ms/step - loss: 0.1850 - acc: 0.9319 - val_loss: 0.3148 - val_acc: 0.8786\n",
      "Epoch 3/25\n",
      "20000/20000 [==============================] - 119s 6ms/step - loss: 0.0942 - acc: 0.9682 - val_loss: 0.4087 - val_acc: 0.8636\n",
      "Epoch 4/25\n",
      "20000/20000 [==============================] - 117s 6ms/step - loss: 0.0562 - acc: 0.9823 - val_loss: 0.4505 - val_acc: 0.8676\n",
      "Epoch 5/25\n",
      "20000/20000 [==============================] - 114s 6ms/step - loss: 0.0279 - acc: 0.9925 - val_loss: 0.5239 - val_acc: 0.8682\n",
      "Epoch 6/25\n",
      "20000/20000 [==============================] - 112s 6ms/step - loss: 0.0227 - acc: 0.9926 - val_loss: 0.5424 - val_acc: 0.8650\n",
      "Epoch 7/25\n",
      "20000/20000 [==============================] - 113s 6ms/step - loss: 0.0139 - acc: 0.9955 - val_loss: 0.6057 - val_acc: 0.8540\n",
      "Epoch 8/25\n",
      "20000/20000 [==============================] - 112s 6ms/step - loss: 0.0120 - acc: 0.9963 - val_loss: 0.7189 - val_acc: 0.8518\n",
      "Epoch 9/25\n",
      "20000/20000 [==============================] - 112s 6ms/step - loss: 0.0133 - acc: 0.9958 - val_loss: 0.7224 - val_acc: 0.8596\n",
      "Epoch 10/25\n",
      "20000/20000 [==============================] - 113s 6ms/step - loss: 0.0115 - acc: 0.9959 - val_loss: 0.7639 - val_acc: 0.8534\n",
      "Epoch 11/25\n",
      "20000/20000 [==============================] - 112s 6ms/step - loss: 0.0113 - acc: 0.9962 - val_loss: 0.7761 - val_acc: 0.8570\n",
      "Epoch 12/25\n",
      "20000/20000 [==============================] - 111s 6ms/step - loss: 0.0071 - acc: 0.9978 - val_loss: 0.8229 - val_acc: 0.8594\n",
      "Epoch 13/25\n",
      "20000/20000 [==============================] - 111s 6ms/step - loss: 0.0047 - acc: 0.9986 - val_loss: 0.8451 - val_acc: 0.8590\n",
      "Epoch 14/25\n",
      "20000/20000 [==============================] - 111s 6ms/step - loss: 0.0077 - acc: 0.9976 - val_loss: 0.7641 - val_acc: 0.8556\n",
      "Epoch 15/25\n",
      "20000/20000 [==============================] - 111s 6ms/step - loss: 0.0111 - acc: 0.9963 - val_loss: 0.7786 - val_acc: 0.8612\n",
      "Epoch 16/25\n",
      "20000/20000 [==============================] - 112s 6ms/step - loss: 0.0043 - acc: 0.9990 - val_loss: 0.8659 - val_acc: 0.8602\n",
      "Epoch 17/25\n",
      "20000/20000 [==============================] - 111s 6ms/step - loss: 0.0070 - acc: 0.9974 - val_loss: 0.7709 - val_acc: 0.8520\n",
      "Epoch 18/25\n",
      "20000/20000 [==============================] - 112s 6ms/step - loss: 0.0056 - acc: 0.9983 - val_loss: 0.9476 - val_acc: 0.8378\n",
      "Epoch 19/25\n",
      "20000/20000 [==============================] - 112s 6ms/step - loss: 0.0052 - acc: 0.9985 - val_loss: 0.8903 - val_acc: 0.8520\n",
      "Epoch 20/25\n",
      "20000/20000 [==============================] - 112s 6ms/step - loss: 0.0082 - acc: 0.9968 - val_loss: 0.7913 - val_acc: 0.8582\n",
      "Epoch 21/25\n",
      "20000/20000 [==============================] - 112s 6ms/step - loss: 0.0047 - acc: 0.9985 - val_loss: 0.8626 - val_acc: 0.8532\n",
      "Epoch 22/25\n",
      "20000/20000 [==============================] - 112s 6ms/step - loss: 0.0023 - acc: 0.9992 - val_loss: 0.9581 - val_acc: 0.8584\n",
      "Epoch 23/25\n",
      "20000/20000 [==============================] - 113s 6ms/step - loss: 0.0018 - acc: 0.9995 - val_loss: 1.0461 - val_acc: 0.8550\n",
      "Epoch 24/25\n",
      "20000/20000 [==============================] - 113s 6ms/step - loss: 3.1701e-04 - acc: 0.9999 - val_loss: 1.0650 - val_acc: 0.8546\n",
      "Epoch 25/25\n",
      "20000/20000 [==============================] - 132s 7ms/step - loss: 3.4676e-04 - acc: 1.0000 - val_loss: 1.1105 - val_acc: 0.8462\n"
     ]
    }
   ],
   "source": [
    "hist=model.fit(x_train, y_train, epochs=25, batch_size=64, validation_data=(x_val, y_val))"
   ]
  },
  {
   "cell_type": "code",
   "execution_count": 15,
   "metadata": {},
   "outputs": [
    {
     "data": {
      "image/png": "[encoded data removed]",
      "text/plain": [
       "<Figure size 432x288 with 1 Axes>"
      ]
     },
     "metadata": {
      "needs_background": "light"
     },
     "output_type": "display_data"
    }
   ],
   "source": [
    "import matplotlib.pyplot as plt\n",
    "hist_dict=hist.history\n",
    "loss=hist_dict['loss']\n",
    "val_loss=hist_dict['val_loss']\n",
    "\n",
    "epochs=range(1,26)\n",
    "\n",
    "plt.plot(epochs, loss, 'bo', label='Trainig Loss')\n",
    "plt.plot(epochs, val_loss, 'b', label='Validation Loss')\n",
    "plt.title(\"Training and Validation Loss\")\n",
    "plt.xlabel('Epochs')\n",
    "plt.ylabel('Loss')\n",
    "plt.legend()\n",
    "\n",
    "plt.show();"
   ]
  },
  {
   "cell_type": "code",
   "execution_count": 16,
   "metadata": {},
   "outputs": [
    {
     "data": {
      "image/png": "[encoded data removed]",
      "text/plain": [
       "<Figure size 432x288 with 1 Axes>"
      ]
     },
     "metadata": {
      "needs_background": "light"
     },
     "output_type": "display_data"
    }
   ],
   "source": [
    "plt.clf()\n",
    "\n",
    "acc=hist_dict['acc']\n",
    "val_acc=hist_dict['val_acc']\n",
    "\n",
    "epochs=range(1,26)\n",
    "\n",
    "plt.plot(epochs, acc, 'bo', label='Trainig Accuracy')\n",
    "plt.plot(epochs, val_acc, 'b', label='Validation Accuracy')\n",
    "plt.title(\"Training and Validation Accuracy\")\n",
    "plt.xlabel('Epochs')\n",
    "plt.ylabel('Accuracy')\n",
    "plt.legend()\n",
    "\n",
    "plt.show();"
   ]
  },
  {
   "cell_type": "code",
   "execution_count": 17,
   "metadata": {},
   "outputs": [
    {
     "name": "stdout",
     "output_type": "stream",
     "text": [
      "25000/25000 [==============================] - 51s 2ms/step\n",
      "Test Loss\n",
      "1.1790727806279062\n",
      "Test Accuracy\n",
      "0.8368\n"
     ]
    }
   ],
   "source": [
    "result=model.evaluate(x_test, y_test)\n",
    "print(\"Test Loss\")\n",
    "print(result[0])\n",
    "print(\"Test Accuracy\")\n",
    "print(result[1])"
   ]
  }
 ],
 "metadata": {
  "kernelspec": {
   "display_name": "Python 3",
   "language": "python",
   "name": "python3"
  },
  "language_info": {
   "codemirror_mode": {
    "name": "ipython",
    "version": 3
   },
   "file_extension": ".py",
   "mimetype": "text/x-python",
   "name": "python",
   "nbconvert_exporter": "python",
   "pygments_lexer": "ipython3",
   "version": "3.7.3"
  }
 },
 "nbformat": 4,
 "nbformat_minor": 2
}
