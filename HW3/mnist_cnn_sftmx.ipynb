{
 "cells": [
  {
   "cell_type": "code",
   "execution_count": 2,
   "metadata": {},
   "outputs": [
    {
     "data": {
      "text/plain": [
       "'2.2.4'"
      ]
     },
     "execution_count": 2,
     "metadata": {},
     "output_type": "execute_result"
    }
   ],
   "source": [
    "import keras\n",
    "keras.__version__"
   ]
  },
  {
   "cell_type": "markdown",
   "metadata": {
    "collapsed": true
   },
   "source": [
    "## 5.1 - 합성곱 신경망 소개\n",
    "###### Python 3.5.5. keras 2.1.6에서 실행 확인하였습니다.\n",
    "책의 5장 1절의 코드 예제입니다. 아래 모델에에 대해서 기술하세요.\n",
    "\n"
   ]
  },
  {
   "cell_type": "markdown",
   "metadata": {},
   "source": [
    "합성곱 신경망(Convolutional Neural Network)는 임의로 생성된 필터를 데이터에 곱해나가면서 데이터의 특징적인 부분을 추출해내는 신경망이다. Convolutional network를 통한 연산을 진행한 후에는 해당 신경망이 특정 데이터셋에만 지나치게 적합해지지 않도록 Pooling 과정을 거치는 것이 일반적이다 (Overfitting 방지). <br><br>\n",
    "\n",
    "<해당 파일의 모델에 대한 설명><br>\n",
    "-> model이라는 변수를 신경망을 지칭하는 객체로 삼아서 Sequenctial()로 초기화 시켜준다.<br><br>\n",
    "\n",
    "-> 첫 번째 층에서는 크기가 3x3인 32개의 필터를 추가하였다. 활성함수는 relu 함수를 사용했으며, 첫 번째 층인 해당 층에서 받게될 input크기는 28x28이다 (채널은 하나).<br><br>\n",
    "\n",
    "-> 그 후 Maxpooling2D를 사용하여 2x2의 크기로 벡터의 크기를 축소한다. 이를 통해 사소한 값들은 무시하게 되고, overfitting이 방지된다. <br><br>\n",
    "\n",
    "-> 이번엔 64개의 3x3 필터를 생성하여 특징을 추출한다. (Conv2D)<br><br>\n",
    "\n",
    "-> 위와 같은 방식으로 maxpooling을 진행한다. <br><br>\n",
    "\n",
    "-> 위와 같은 방식으로 64개의 3x3 필터로 특징을 추출한다. \n",
    "<br><br>\n",
    "-> 2차원이었던 데이터를 1차원으로 바꾸기 위해 Flatten() 함수를 사용한다. <br><br>\n",
    "\n",
    "-> Dense는 입력층과 출력층을 연결해주는 함수이다. 해당 층에서 출력 뉴언의 수를 64개로 설정하였다. <br><br>\n",
    "\n",
    "-> Output Layer에서는 softmax를 활성 함수 공식을 사용하였다. softmax함수는 2보다 큰 카테고리로 input data를 분류해야할 때, 사용하는 함수이다. \n",
    "<br><br>"
   ]
  },
  {
   "cell_type": "code",
   "execution_count": 3,
   "metadata": {},
   "outputs": [
    {
     "name": "stdout",
     "output_type": "stream",
     "text": [
      "WARNING:tensorflow:From C:\\Users\\dhk13\\Anaconda3\\lib\\site-packages\\tensorflow\\python\\framework\\op_def_library.py:263: colocate_with (from tensorflow.python.framework.ops) is deprecated and will be removed in a future version.\n",
      "Instructions for updating:\n",
      "Colocations handled automatically by placer.\n",
      "_________________________________________________________________\n",
      "Layer (type)                 Output Shape              Param #   \n",
      "=================================================================\n",
      "conv2d_1 (Conv2D)            (None, 26, 26, 32)        320       \n",
      "_________________________________________________________________\n",
      "max_pooling2d_1 (MaxPooling2 (None, 13, 13, 32)        0         \n",
      "_________________________________________________________________\n",
      "conv2d_2 (Conv2D)            (None, 11, 11, 64)        18496     \n",
      "_________________________________________________________________\n",
      "max_pooling2d_2 (MaxPooling2 (None, 5, 5, 64)          0         \n",
      "_________________________________________________________________\n",
      "conv2d_3 (Conv2D)            (None, 3, 3, 64)          36928     \n",
      "_________________________________________________________________\n",
      "flatten_1 (Flatten)          (None, 576)               0         \n",
      "_________________________________________________________________\n",
      "dense_1 (Dense)              (None, 64)                36928     \n",
      "_________________________________________________________________\n",
      "dense_2 (Dense)              (None, 10)                650       \n",
      "=================================================================\n",
      "Total params: 93,322\n",
      "Trainable params: 93,322\n",
      "Non-trainable params: 0\n",
      "_________________________________________________________________\n"
     ]
    }
   ],
   "source": [
    "from keras import layers\n",
    "from keras import models\n",
    "\n",
    "model = models.Sequential()\n",
    "model.add(layers.Conv2D(32, (3, 3), activation='relu', input_shape=(28, 28, 1)))\n",
    "model.add(layers.MaxPooling2D((2, 2)))\n",
    "model.add(layers.Conv2D(64, (3, 3), activation='relu'))\n",
    "model.add(layers.MaxPooling2D((2, 2)))\n",
    "model.add(layers.Conv2D(64, (3, 3), activation='relu'))\n",
    "model.add(layers.Flatten())\n",
    "model.add(layers.Dense(64, activation='relu'))\n",
    "model.add(layers.Dense(10, activation='softmax'))\n",
    "model.summary()"
   ]
  },
  {
   "cell_type": "code",
   "execution_count": 4,
   "metadata": {},
   "outputs": [],
   "source": [
    "from keras.datasets import mnist\n",
    "from keras.utils import to_categorical\n",
    "\n",
    "(train_images, train_labels), (test_images, test_labels) = mnist.load_data()\n",
    "\n",
    "train_images = train_images.reshape((60000, 28, 28, 1))\n",
    "train_images = train_images.astype('float32') / 255\n",
    "\n",
    "test_images = test_images.reshape((10000, 28, 28, 1))\n",
    "test_images = test_images.astype('float32') / 255\n",
    "\n",
    "train_labels = to_categorical(train_labels)\n",
    "test_labels = to_categorical(test_labels)"
   ]
  },
  {
   "cell_type": "code",
   "execution_count": 5,
   "metadata": {},
   "outputs": [
    {
     "name": "stdout",
     "output_type": "stream",
     "text": [
      "WARNING:tensorflow:From C:\\Users\\dhk13\\Anaconda3\\lib\\site-packages\\tensorflow\\python\\ops\\math_ops.py:3066: to_int32 (from tensorflow.python.ops.math_ops) is deprecated and will be removed in a future version.\n",
      "Instructions for updating:\n",
      "Use tf.cast instead.\n",
      "Epoch 1/5\n",
      "60000/60000 [==============================] - 40s 665us/step - loss: 0.1809 - acc: 0.9436\n",
      "Epoch 2/5\n",
      "60000/60000 [==============================] - 41s 689us/step - loss: 0.0478 - acc: 0.9853\n",
      "Epoch 3/5\n",
      "60000/60000 [==============================] - 41s 687us/step - loss: 0.0329 - acc: 0.9901\n",
      "Epoch 4/5\n",
      "60000/60000 [==============================] - 42s 692us/step - loss: 0.0245 - acc: 0.9924\n",
      "Epoch 5/5\n",
      "60000/60000 [==============================] - 41s 688us/step - loss: 0.0193 - acc: 0.99385s \n"
     ]
    },
    {
     "data": {
      "text/plain": [
       "<keras.callbacks.History at 0x1f87b710d68>"
      ]
     },
     "execution_count": 5,
     "metadata": {},
     "output_type": "execute_result"
    }
   ],
   "source": [
    "model.compile(optimizer='rmsprop',\n",
    "              loss='categorical_crossentropy',\n",
    "              metrics=['accuracy'])\n",
    "model.fit(train_images, train_labels, epochs=5, batch_size=64)"
   ]
  },
  {
   "cell_type": "code",
   "execution_count": 6,
   "metadata": {},
   "outputs": [
    {
     "name": "stdout",
     "output_type": "stream",
     "text": [
      "10000/10000 [==============================] - 3s 282us/step\n"
     ]
    },
    {
     "data": {
      "text/plain": [
       "0.9922"
      ]
     },
     "execution_count": 6,
     "metadata": {},
     "output_type": "execute_result"
    }
   ],
   "source": [
    "test_loss, test_acc = model.evaluate(test_images, test_labels)\n",
    "test_acc"
   ]
  }
 ],
 "metadata": {
  "kernelspec": {
   "display_name": "Python 3",
   "language": "python",
   "name": "python3"
  },
  "language_info": {
   "codemirror_mode": {
    "name": "ipython",
    "version": 3
   },
   "file_extension": ".py",
   "mimetype": "text/x-python",
   "name": "python",
   "nbconvert_exporter": "python",
   "pygments_lexer": "ipython3",
   "version": "3.7.3"
  }
 },
 "nbformat": 4,
 "nbformat_minor": 2
}
